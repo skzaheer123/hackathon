{
 "cells": [
  {
   "cell_type": "code",
   "execution_count": null,
   "id": "354bc4b6",
   "metadata": {},
   "outputs": [],
   "source": []
  },
  {
   "cell_type": "markdown",
   "id": "7046ec93",
   "metadata": {},
   "source": [
    "### Which of the following is an invalid identifier?"
   ]
  },
  {
   "cell_type": "markdown",
   "id": "e78dfc08",
   "metadata": {},
   "source": [
    "\n",
    "* 1st_str\n",
    "* My_str_1\n",
    "* __\n",
    "* Foo\n",
    "ans 1st_str"
   ]
  },
  {
   "cell_type": "markdown",
   "id": "05babea7",
   "metadata": {},
   "source": [
    "### In Python, which of the following is invalid statement?\n"
   ]
  },
  {
   "cell_type": "raw",
   "id": "46021aaf",
   "metadata": {},
   "source": [
    "\n",
    "Abc = 100,000,000\n",
    "A,b,c = 100,200,300\n",
    "A b c = 100 200 300\n",
    "A_b_c = 100,000,000\n",
    "ans a b c ="
   ]
  },
  {
   "cell_type": "markdown",
   "id": "33c7ef00",
   "metadata": {},
   "source": [
    "### Which of the following is an invalid tuple?\n",
    "* tup = (1, 2, 3)\n",
    "* tup = (1)\n",
    "* tup = 1, 2, 3\n",
    "* tup = [1, 2, 3]\n",
    "* ans tup =(1)"
   ]
  },
  {
   "cell_type": "code",
   "execution_count": 1,
   "id": "e8965da7",
   "metadata": {},
   "outputs": [],
   "source": [
    "tup =1,2,3"
   ]
  },
  {
   "cell_type": "code",
   "execution_count": 2,
   "id": "40a3ba6a",
   "metadata": {},
   "outputs": [
    {
     "data": {
      "text/plain": [
       "(1, 2, 3)"
      ]
     },
     "execution_count": 2,
     "metadata": {},
     "output_type": "execute_result"
    }
   ],
   "source": [
    "tup"
   ]
  },
  {
   "cell_type": "code",
   "execution_count": 3,
   "id": "51772f7e",
   "metadata": {},
   "outputs": [
    {
     "data": {
      "text/plain": [
       "[1, 2, 3]"
      ]
     },
     "execution_count": 3,
     "metadata": {},
     "output_type": "execute_result"
    }
   ],
   "source": [
    "tup = [1, 2, 3]\n",
    "tup"
   ]
  },
  {
   "cell_type": "markdown",
   "id": "3d32eb55",
   "metadata": {},
   "source": [
    "### Calculate the dot product and angle between c = (−8, −6) and d = (−4, 5)?\n",
    "* dot product = -2, acute angle\n",
    "* dot product = 2, acute angle\n",
    "* dot product = 2, obtuse angle\n",
    "* dot product = -2, obtuse angle"
   ]
  },
  {
   "cell_type": "markdown",
   "id": "5376717f",
   "metadata": {},
   "source": [
    "dot product = 2, acute angle "
   ]
  },
  {
   "cell_type": "markdown",
   "id": "c7b04f27",
   "metadata": {},
   "source": [
    "### Which of the following vectors are orthogonal? (Choose all the correct options)\n",
    "\n",
    "* a = (6,2,-1), b = (2,-7,-2)\n",
    "* a = (4,-8), b = (-4,-2)\n",
    "* a = (1,2,-1), b = (2,-3,-2)\n",
    "* a = (5,2,-2), b = (2,-7,-2)"
   ]
  },
  {
   "cell_type": "markdown",
   "id": "dbec2f69",
   "metadata": {},
   "source": [
    "a = (1,2,-1), b = (2,-3,-2) is not correct"
   ]
  },
  {
   "cell_type": "markdown",
   "id": "0428b38b",
   "metadata": {},
   "source": [
    "### In Domino's, an average of 3 out of 5 customers ask for ketchup with their Pizza. Assume a random sample of 10 customers is selected. Find the probability that exactly 6 customers ask for ketchup with their Pizza.\n",
    "\n",
    "* 0.20\n",
    "* 0.25\n",
    "* 0.30\n",
    "* 0.35"
   ]
  },
  {
   "cell_type": "code",
   "execution_count": 7,
   "id": "b5de1521",
   "metadata": {},
   "outputs": [
    {
     "data": {
      "text/plain": [
       "0.25"
      ]
     },
     "execution_count": 7,
     "metadata": {},
     "output_type": "execute_result"
    }
   ],
   "source": [
    "0.25"
   ]
  },
  {
   "cell_type": "markdown",
   "id": "fb4f0222",
   "metadata": {},
   "source": [
    "### What are the differences of using squared difference over absolute difference for variance? (Choose all the correct options)\n",
    "* Square retains the arithmetic signs after computing.\n",
    "* Square function is continuous and differentiable everywhere.\n",
    "* Square removes the effects of outliers in the data.\n",
    "* Square magnifies the outliers in the data."
   ]
  },
  {
   "cell_type": "raw",
   "id": "f1d1aaa1",
   "metadata": {},
   "source": [
    "3rd option is not correct"
   ]
  },
  {
   "cell_type": "markdown",
   "id": "d60bbdb5",
   "metadata": {},
   "source": [
    "### `Select the support vectors in the figure below when training an SVM. There are two classes and each sample is marked with an id.\n",
    "\n",
    "* 1,2\n",
    "* 2,5,1,3\n",
    "* 4,3\n",
    "* 1,2,5"
   ]
  },
  {
   "cell_type": "markdown",
   "id": "cd051041",
   "metadata": {},
   "source": [
    "ans 1,2,5"
   ]
  },
  {
   "cell_type": "markdown",
   "id": "dfc3d311",
   "metadata": {},
   "source": [
    "### phase 2"
   ]
  },
  {
   "cell_type": "code",
   "execution_count": 15,
   "id": "2c564d50",
   "metadata": {},
   "outputs": [],
   "source": [
    "# import zipfile\n",
    "# with zipfile.ZipFile('data/movie_data.zip', 'r') as zipf:\n",
    "#      zipf.extractall(path='data/movie_data_extracted')"
   ]
  },
  {
   "cell_type": "code",
   "execution_count": 42,
   "id": "9be8a175",
   "metadata": {},
   "outputs": [],
   "source": [
    "import numpy as np \n",
    "import pandas as pd\n",
    "import seaborn as sns\n",
    "import matplotlib.pyplot as plt"
   ]
  },
  {
   "cell_type": "code",
   "execution_count": 17,
   "id": "269d5965",
   "metadata": {},
   "outputs": [
    {
     "data": {
      "text/html": [
       "<div>\n",
       "<style scoped>\n",
       "    .dataframe tbody tr th:only-of-type {\n",
       "        vertical-align: middle;\n",
       "    }\n",
       "\n",
       "    .dataframe tbody tr th {\n",
       "        vertical-align: top;\n",
       "    }\n",
       "\n",
       "    .dataframe thead th {\n",
       "        text-align: right;\n",
       "    }\n",
       "</style>\n",
       "<table border=\"1\" class=\"dataframe\">\n",
       "  <thead>\n",
       "    <tr style=\"text-align: right;\">\n",
       "      <th></th>\n",
       "      <th>movieId</th>\n",
       "      <th>title</th>\n",
       "      <th>genres</th>\n",
       "    </tr>\n",
       "  </thead>\n",
       "  <tbody>\n",
       "    <tr>\n",
       "      <th>0</th>\n",
       "      <td>1</td>\n",
       "      <td>Toy Story (1995)</td>\n",
       "      <td>Adventure|Animation|Children|Comedy|Fantasy</td>\n",
       "    </tr>\n",
       "    <tr>\n",
       "      <th>1</th>\n",
       "      <td>2</td>\n",
       "      <td>Jumanji (1995)</td>\n",
       "      <td>Adventure|Children|Fantasy</td>\n",
       "    </tr>\n",
       "    <tr>\n",
       "      <th>2</th>\n",
       "      <td>3</td>\n",
       "      <td>Grumpier Old Men (1995)</td>\n",
       "      <td>Comedy|Romance</td>\n",
       "    </tr>\n",
       "    <tr>\n",
       "      <th>3</th>\n",
       "      <td>4</td>\n",
       "      <td>Waiting to Exhale (1995)</td>\n",
       "      <td>Comedy|Drama|Romance</td>\n",
       "    </tr>\n",
       "    <tr>\n",
       "      <th>4</th>\n",
       "      <td>5</td>\n",
       "      <td>Father of the Bride Part II (1995)</td>\n",
       "      <td>Comedy</td>\n",
       "    </tr>\n",
       "  </tbody>\n",
       "</table>\n",
       "</div>"
      ],
      "text/plain": [
       "   movieId                               title  \\\n",
       "0        1                    Toy Story (1995)   \n",
       "1        2                      Jumanji (1995)   \n",
       "2        3             Grumpier Old Men (1995)   \n",
       "3        4            Waiting to Exhale (1995)   \n",
       "4        5  Father of the Bride Part II (1995)   \n",
       "\n",
       "                                        genres  \n",
       "0  Adventure|Animation|Children|Comedy|Fantasy  \n",
       "1                   Adventure|Children|Fantasy  \n",
       "2                               Comedy|Romance  \n",
       "3                         Comedy|Drama|Romance  \n",
       "4                                       Comedy  "
      ]
     },
     "execution_count": 17,
     "metadata": {},
     "output_type": "execute_result"
    }
   ],
   "source": [
    "movies= pd.read_csv(\"data/movie_data_extracted/movies.csv\")\n",
    "movies.head()"
   ]
  },
  {
   "cell_type": "code",
   "execution_count": 18,
   "id": "94987f2b",
   "metadata": {},
   "outputs": [
    {
     "data": {
      "text/plain": [
       "(9742, 3)"
      ]
     },
     "execution_count": 18,
     "metadata": {},
     "output_type": "execute_result"
    }
   ],
   "source": [
    "movies.shape"
   ]
  },
  {
   "cell_type": "code",
   "execution_count": 19,
   "id": "ab27ea97",
   "metadata": {},
   "outputs": [
    {
     "data": {
      "text/html": [
       "<div>\n",
       "<style scoped>\n",
       "    .dataframe tbody tr th:only-of-type {\n",
       "        vertical-align: middle;\n",
       "    }\n",
       "\n",
       "    .dataframe tbody tr th {\n",
       "        vertical-align: top;\n",
       "    }\n",
       "\n",
       "    .dataframe thead th {\n",
       "        text-align: right;\n",
       "    }\n",
       "</style>\n",
       "<table border=\"1\" class=\"dataframe\">\n",
       "  <thead>\n",
       "    <tr style=\"text-align: right;\">\n",
       "      <th></th>\n",
       "      <th>userId</th>\n",
       "      <th>movieId</th>\n",
       "      <th>rating</th>\n",
       "      <th>timestamp</th>\n",
       "    </tr>\n",
       "  </thead>\n",
       "  <tbody>\n",
       "    <tr>\n",
       "      <th>0</th>\n",
       "      <td>1</td>\n",
       "      <td>1</td>\n",
       "      <td>4.0</td>\n",
       "      <td>964982703</td>\n",
       "    </tr>\n",
       "    <tr>\n",
       "      <th>1</th>\n",
       "      <td>1</td>\n",
       "      <td>3</td>\n",
       "      <td>4.0</td>\n",
       "      <td>964981247</td>\n",
       "    </tr>\n",
       "    <tr>\n",
       "      <th>2</th>\n",
       "      <td>1</td>\n",
       "      <td>6</td>\n",
       "      <td>4.0</td>\n",
       "      <td>964982224</td>\n",
       "    </tr>\n",
       "    <tr>\n",
       "      <th>3</th>\n",
       "      <td>1</td>\n",
       "      <td>47</td>\n",
       "      <td>5.0</td>\n",
       "      <td>964983815</td>\n",
       "    </tr>\n",
       "    <tr>\n",
       "      <th>4</th>\n",
       "      <td>1</td>\n",
       "      <td>50</td>\n",
       "      <td>5.0</td>\n",
       "      <td>964982931</td>\n",
       "    </tr>\n",
       "  </tbody>\n",
       "</table>\n",
       "</div>"
      ],
      "text/plain": [
       "   userId  movieId  rating  timestamp\n",
       "0       1        1     4.0  964982703\n",
       "1       1        3     4.0  964981247\n",
       "2       1        6     4.0  964982224\n",
       "3       1       47     5.0  964983815\n",
       "4       1       50     5.0  964982931"
      ]
     },
     "execution_count": 19,
     "metadata": {},
     "output_type": "execute_result"
    }
   ],
   "source": [
    "ratings= pd.read_csv(\"data/movie_data_extracted/ratings.csv\")\n",
    "ratings.head()"
   ]
  },
  {
   "cell_type": "code",
   "execution_count": 20,
   "id": "344e9c7f",
   "metadata": {},
   "outputs": [
    {
     "data": {
      "text/plain": [
       "(100836, 4)"
      ]
     },
     "execution_count": 20,
     "metadata": {},
     "output_type": "execute_result"
    }
   ],
   "source": [
    "ratings.shape"
   ]
  },
  {
   "cell_type": "code",
   "execution_count": 21,
   "id": "f68d4743",
   "metadata": {},
   "outputs": [
    {
     "data": {
      "text/plain": [
       "353083.0"
      ]
     },
     "execution_count": 21,
     "metadata": {},
     "output_type": "execute_result"
    }
   ],
   "source": [
    "ratings[\"rating\"].sum()"
   ]
  },
  {
   "cell_type": "code",
   "execution_count": 22,
   "id": "3f31b813",
   "metadata": {},
   "outputs": [
    {
     "data": {
      "text/plain": [
       "<bound method Series.unique of 0           1\n",
       "1           1\n",
       "2           1\n",
       "3           1\n",
       "4           1\n",
       "         ... \n",
       "100831    610\n",
       "100832    610\n",
       "100833    610\n",
       "100834    610\n",
       "100835    610\n",
       "Name: userId, Length: 100836, dtype: int64>"
      ]
     },
     "execution_count": 22,
     "metadata": {},
     "output_type": "execute_result"
    }
   ],
   "source": [
    "ratings['userId'].unique"
   ]
  },
  {
   "cell_type": "code",
   "execution_count": 23,
   "id": "6bdb0edb",
   "metadata": {},
   "outputs": [
    {
     "data": {
      "text/html": [
       "<div>\n",
       "<style scoped>\n",
       "    .dataframe tbody tr th:only-of-type {\n",
       "        vertical-align: middle;\n",
       "    }\n",
       "\n",
       "    .dataframe tbody tr th {\n",
       "        vertical-align: top;\n",
       "    }\n",
       "\n",
       "    .dataframe thead th {\n",
       "        text-align: right;\n",
       "    }\n",
       "</style>\n",
       "<table border=\"1\" class=\"dataframe\">\n",
       "  <thead>\n",
       "    <tr style=\"text-align: right;\">\n",
       "      <th></th>\n",
       "      <th>userId</th>\n",
       "      <th>movieId</th>\n",
       "      <th>tag</th>\n",
       "      <th>timestamp</th>\n",
       "    </tr>\n",
       "  </thead>\n",
       "  <tbody>\n",
       "    <tr>\n",
       "      <th>0</th>\n",
       "      <td>2</td>\n",
       "      <td>60756</td>\n",
       "      <td>funny</td>\n",
       "      <td>1445714994</td>\n",
       "    </tr>\n",
       "    <tr>\n",
       "      <th>1</th>\n",
       "      <td>2</td>\n",
       "      <td>60756</td>\n",
       "      <td>Highly quotable</td>\n",
       "      <td>1445714996</td>\n",
       "    </tr>\n",
       "    <tr>\n",
       "      <th>2</th>\n",
       "      <td>2</td>\n",
       "      <td>60756</td>\n",
       "      <td>will ferrell</td>\n",
       "      <td>1445714992</td>\n",
       "    </tr>\n",
       "    <tr>\n",
       "      <th>3</th>\n",
       "      <td>2</td>\n",
       "      <td>89774</td>\n",
       "      <td>Boxing story</td>\n",
       "      <td>1445715207</td>\n",
       "    </tr>\n",
       "    <tr>\n",
       "      <th>4</th>\n",
       "      <td>2</td>\n",
       "      <td>89774</td>\n",
       "      <td>MMA</td>\n",
       "      <td>1445715200</td>\n",
       "    </tr>\n",
       "  </tbody>\n",
       "</table>\n",
       "</div>"
      ],
      "text/plain": [
       "   userId  movieId              tag   timestamp\n",
       "0       2    60756            funny  1445714994\n",
       "1       2    60756  Highly quotable  1445714996\n",
       "2       2    60756     will ferrell  1445714992\n",
       "3       2    89774     Boxing story  1445715207\n",
       "4       2    89774              MMA  1445715200"
      ]
     },
     "execution_count": 23,
     "metadata": {},
     "output_type": "execute_result"
    }
   ],
   "source": [
    "tags= pd.read_csv(\"data/movie_data_extracted/tags.csv\")\n",
    "tags.head()"
   ]
  },
  {
   "cell_type": "code",
   "execution_count": 24,
   "id": "62b1a014",
   "metadata": {},
   "outputs": [
    {
     "data": {
      "text/html": [
       "<div>\n",
       "<style scoped>\n",
       "    .dataframe tbody tr th:only-of-type {\n",
       "        vertical-align: middle;\n",
       "    }\n",
       "\n",
       "    .dataframe tbody tr th {\n",
       "        vertical-align: top;\n",
       "    }\n",
       "\n",
       "    .dataframe thead th {\n",
       "        text-align: right;\n",
       "    }\n",
       "</style>\n",
       "<table border=\"1\" class=\"dataframe\">\n",
       "  <thead>\n",
       "    <tr style=\"text-align: right;\">\n",
       "      <th></th>\n",
       "      <th>movieId</th>\n",
       "      <th>imdbId</th>\n",
       "      <th>tmdbId</th>\n",
       "    </tr>\n",
       "  </thead>\n",
       "  <tbody>\n",
       "    <tr>\n",
       "      <th>0</th>\n",
       "      <td>1</td>\n",
       "      <td>114709</td>\n",
       "      <td>862.0</td>\n",
       "    </tr>\n",
       "    <tr>\n",
       "      <th>1</th>\n",
       "      <td>2</td>\n",
       "      <td>113497</td>\n",
       "      <td>8844.0</td>\n",
       "    </tr>\n",
       "    <tr>\n",
       "      <th>2</th>\n",
       "      <td>3</td>\n",
       "      <td>113228</td>\n",
       "      <td>15602.0</td>\n",
       "    </tr>\n",
       "    <tr>\n",
       "      <th>3</th>\n",
       "      <td>4</td>\n",
       "      <td>114885</td>\n",
       "      <td>31357.0</td>\n",
       "    </tr>\n",
       "    <tr>\n",
       "      <th>4</th>\n",
       "      <td>5</td>\n",
       "      <td>113041</td>\n",
       "      <td>11862.0</td>\n",
       "    </tr>\n",
       "  </tbody>\n",
       "</table>\n",
       "</div>"
      ],
      "text/plain": [
       "   movieId  imdbId   tmdbId\n",
       "0        1  114709    862.0\n",
       "1        2  113497   8844.0\n",
       "2        3  113228  15602.0\n",
       "3        4  114885  31357.0\n",
       "4        5  113041  11862.0"
      ]
     },
     "execution_count": 24,
     "metadata": {},
     "output_type": "execute_result"
    }
   ],
   "source": [
    "links= pd.read_csv(\"data/movie_data_extracted/links.csv\")\n",
    "links.head()"
   ]
  },
  {
   "cell_type": "markdown",
   "id": "f8264384",
   "metadata": {},
   "source": [
    "### Download the data from the above link. How many \".csv\" files are available in the dataset?\n",
    "* 1\n",
    "* 2\n",
    "* 3\n",
    "* 4"
   ]
  },
  {
   "cell_type": "markdown",
   "id": "d84e924f",
   "metadata": {},
   "source": [
    "4"
   ]
  },
  {
   "cell_type": "markdown",
   "id": "dbec7a98",
   "metadata": {},
   "source": [
    "### What is the shape of \"movies.csv\"?\n",
    "\n",
    "* (3683, 4)\n",
    "* (9742, 3)\n",
    "* (100836, 4)\n",
    "* None of the above\n"
   ]
  },
  {
   "cell_type": "code",
   "execution_count": 25,
   "id": "74b3539d",
   "metadata": {},
   "outputs": [
    {
     "ename": "SyntaxError",
     "evalue": "invalid syntax (979215057.py, line 1)",
     "output_type": "error",
     "traceback": [
      "\u001b[1;36m  Cell \u001b[1;32mIn[25], line 1\u001b[1;36m\u001b[0m\n\u001b[1;33m    2 nd\u001b[0m\n\u001b[1;37m      ^\u001b[0m\n\u001b[1;31mSyntaxError\u001b[0m\u001b[1;31m:\u001b[0m invalid syntax\n"
     ]
    }
   ],
   "source": [
    "2 nd "
   ]
  },
  {
   "cell_type": "markdown",
   "id": "9340be9d",
   "metadata": {},
   "source": [
    "### What is the shape of \"ratings.csv\"?\n",
    "\n",
    "* (3683, 4)\n",
    "* (9742, 3)\n",
    "* (100836, 4)\n",
    "* None of the above"
   ]
  },
  {
   "cell_type": "code",
   "execution_count": 26,
   "id": "7764d9ef",
   "metadata": {},
   "outputs": [
    {
     "ename": "SyntaxError",
     "evalue": "invalid syntax (3063335513.py, line 1)",
     "output_type": "error",
     "traceback": [
      "\u001b[1;36m  Cell \u001b[1;32mIn[26], line 1\u001b[1;36m\u001b[0m\n\u001b[1;33m    3 rd\u001b[0m\n\u001b[1;37m      ^\u001b[0m\n\u001b[1;31mSyntaxError\u001b[0m\u001b[1;31m:\u001b[0m invalid syntax\n"
     ]
    }
   ],
   "source": [
    "3 rd"
   ]
  },
  {
   "cell_type": "markdown",
   "id": "7a33ca65",
   "metadata": {},
   "source": [
    "### How many unique \"userId\" are available in \"ratings.csv\"?\n",
    "* 610"
   ]
  },
  {
   "cell_type": "markdown",
   "id": "edefd968",
   "metadata": {},
   "source": [
    "### Which movie has recieved maximum number of user ratings?\n",
    "\n",
    "* Matrix\n",
    "* Pulp Fiction\n",
    "* Forrest Gump\n",
    "* Shawshank Redemption"
   ]
  },
  {
   "cell_type": "code",
   "execution_count": null,
   "id": "00738ab8",
   "metadata": {},
   "outputs": [],
   "source": []
  },
  {
   "cell_type": "code",
   "execution_count": null,
   "id": "22332202",
   "metadata": {},
   "outputs": [],
   "source": []
  },
  {
   "cell_type": "markdown",
   "id": "d13f20e4",
   "metadata": {},
   "source": [
    "### Select all the correct tags submitted by users to \"Matrix, The (1999)\" movie?\n",
    "\n",
    "* alternate universe\n",
    "* karate\n",
    "* philosophy\n",
    "* post apocalyptic"
   ]
  },
  {
   "cell_type": "code",
   "execution_count": 28,
   "id": "0530f7ba",
   "metadata": {},
   "outputs": [
    {
     "data": {
      "text/html": [
       "<div>\n",
       "<style scoped>\n",
       "    .dataframe tbody tr th:only-of-type {\n",
       "        vertical-align: middle;\n",
       "    }\n",
       "\n",
       "    .dataframe tbody tr th {\n",
       "        vertical-align: top;\n",
       "    }\n",
       "\n",
       "    .dataframe thead th {\n",
       "        text-align: right;\n",
       "    }\n",
       "</style>\n",
       "<table border=\"1\" class=\"dataframe\">\n",
       "  <thead>\n",
       "    <tr style=\"text-align: right;\">\n",
       "      <th></th>\n",
       "      <th>movieId</th>\n",
       "      <th>title</th>\n",
       "      <th>genres</th>\n",
       "    </tr>\n",
       "  </thead>\n",
       "  <tbody>\n",
       "    <tr>\n",
       "      <th>1939</th>\n",
       "      <td>2571</td>\n",
       "      <td>Matrix, The (1999)</td>\n",
       "      <td>Action|Sci-Fi|Thriller</td>\n",
       "    </tr>\n",
       "  </tbody>\n",
       "</table>\n",
       "</div>"
      ],
      "text/plain": [
       "      movieId               title                  genres\n",
       "1939     2571  Matrix, The (1999)  Action|Sci-Fi|Thriller"
      ]
     },
     "execution_count": 28,
     "metadata": {},
     "output_type": "execute_result"
    }
   ],
   "source": [
    "movies.loc[movies[\"title\"]==\"Matrix, The (1999)\"]"
   ]
  },
  {
   "cell_type": "code",
   "execution_count": 29,
   "id": "42871b0a",
   "metadata": {},
   "outputs": [
    {
     "data": {
      "text/html": [
       "<div>\n",
       "<style scoped>\n",
       "    .dataframe tbody tr th:only-of-type {\n",
       "        vertical-align: middle;\n",
       "    }\n",
       "\n",
       "    .dataframe tbody tr th {\n",
       "        vertical-align: top;\n",
       "    }\n",
       "\n",
       "    .dataframe thead th {\n",
       "        text-align: right;\n",
       "    }\n",
       "</style>\n",
       "<table border=\"1\" class=\"dataframe\">\n",
       "  <thead>\n",
       "    <tr style=\"text-align: right;\">\n",
       "      <th></th>\n",
       "      <th>userId</th>\n",
       "      <th>movieId</th>\n",
       "      <th>tag</th>\n",
       "      <th>timestamp</th>\n",
       "    </tr>\n",
       "  </thead>\n",
       "  <tbody>\n",
       "    <tr>\n",
       "      <th>0</th>\n",
       "      <td>2</td>\n",
       "      <td>60756</td>\n",
       "      <td>funny</td>\n",
       "      <td>1445714994</td>\n",
       "    </tr>\n",
       "    <tr>\n",
       "      <th>1</th>\n",
       "      <td>2</td>\n",
       "      <td>60756</td>\n",
       "      <td>Highly quotable</td>\n",
       "      <td>1445714996</td>\n",
       "    </tr>\n",
       "    <tr>\n",
       "      <th>2</th>\n",
       "      <td>2</td>\n",
       "      <td>60756</td>\n",
       "      <td>will ferrell</td>\n",
       "      <td>1445714992</td>\n",
       "    </tr>\n",
       "    <tr>\n",
       "      <th>3</th>\n",
       "      <td>2</td>\n",
       "      <td>89774</td>\n",
       "      <td>Boxing story</td>\n",
       "      <td>1445715207</td>\n",
       "    </tr>\n",
       "    <tr>\n",
       "      <th>4</th>\n",
       "      <td>2</td>\n",
       "      <td>89774</td>\n",
       "      <td>MMA</td>\n",
       "      <td>1445715200</td>\n",
       "    </tr>\n",
       "    <tr>\n",
       "      <th>...</th>\n",
       "      <td>...</td>\n",
       "      <td>...</td>\n",
       "      <td>...</td>\n",
       "      <td>...</td>\n",
       "    </tr>\n",
       "    <tr>\n",
       "      <th>3678</th>\n",
       "      <td>606</td>\n",
       "      <td>7382</td>\n",
       "      <td>for katie</td>\n",
       "      <td>1171234019</td>\n",
       "    </tr>\n",
       "    <tr>\n",
       "      <th>3679</th>\n",
       "      <td>606</td>\n",
       "      <td>7936</td>\n",
       "      <td>austere</td>\n",
       "      <td>1173392334</td>\n",
       "    </tr>\n",
       "    <tr>\n",
       "      <th>3680</th>\n",
       "      <td>610</td>\n",
       "      <td>3265</td>\n",
       "      <td>gun fu</td>\n",
       "      <td>1493843984</td>\n",
       "    </tr>\n",
       "    <tr>\n",
       "      <th>3681</th>\n",
       "      <td>610</td>\n",
       "      <td>3265</td>\n",
       "      <td>heroic bloodshed</td>\n",
       "      <td>1493843978</td>\n",
       "    </tr>\n",
       "    <tr>\n",
       "      <th>3682</th>\n",
       "      <td>610</td>\n",
       "      <td>168248</td>\n",
       "      <td>Heroic Bloodshed</td>\n",
       "      <td>1493844270</td>\n",
       "    </tr>\n",
       "  </tbody>\n",
       "</table>\n",
       "<p>3683 rows × 4 columns</p>\n",
       "</div>"
      ],
      "text/plain": [
       "      userId  movieId               tag   timestamp\n",
       "0          2    60756             funny  1445714994\n",
       "1          2    60756   Highly quotable  1445714996\n",
       "2          2    60756      will ferrell  1445714992\n",
       "3          2    89774      Boxing story  1445715207\n",
       "4          2    89774               MMA  1445715200\n",
       "...      ...      ...               ...         ...\n",
       "3678     606     7382         for katie  1171234019\n",
       "3679     606     7936           austere  1173392334\n",
       "3680     610     3265            gun fu  1493843984\n",
       "3681     610     3265  heroic bloodshed  1493843978\n",
       "3682     610   168248  Heroic Bloodshed  1493844270\n",
       "\n",
       "[3683 rows x 4 columns]"
      ]
     },
     "execution_count": 29,
     "metadata": {},
     "output_type": "execute_result"
    }
   ],
   "source": [
    "tags"
   ]
  },
  {
   "cell_type": "code",
   "execution_count": 30,
   "id": "d7710e50",
   "metadata": {},
   "outputs": [
    {
     "data": {
      "text/html": [
       "<div>\n",
       "<style scoped>\n",
       "    .dataframe tbody tr th:only-of-type {\n",
       "        vertical-align: middle;\n",
       "    }\n",
       "\n",
       "    .dataframe tbody tr th {\n",
       "        vertical-align: top;\n",
       "    }\n",
       "\n",
       "    .dataframe thead th {\n",
       "        text-align: right;\n",
       "    }\n",
       "</style>\n",
       "<table border=\"1\" class=\"dataframe\">\n",
       "  <thead>\n",
       "    <tr style=\"text-align: right;\">\n",
       "      <th></th>\n",
       "      <th>userId</th>\n",
       "      <th>movieId</th>\n",
       "      <th>tag</th>\n",
       "      <th>timestamp</th>\n",
       "    </tr>\n",
       "  </thead>\n",
       "  <tbody>\n",
       "    <tr>\n",
       "      <th>815</th>\n",
       "      <td>424</td>\n",
       "      <td>2571</td>\n",
       "      <td>martial arts</td>\n",
       "      <td>1457842912</td>\n",
       "    </tr>\n",
       "    <tr>\n",
       "      <th>816</th>\n",
       "      <td>424</td>\n",
       "      <td>2571</td>\n",
       "      <td>sci-fi</td>\n",
       "      <td>1457842899</td>\n",
       "    </tr>\n",
       "    <tr>\n",
       "      <th>1646</th>\n",
       "      <td>474</td>\n",
       "      <td>2571</td>\n",
       "      <td>alternate universe</td>\n",
       "      <td>1137204991</td>\n",
       "    </tr>\n",
       "    <tr>\n",
       "      <th>2794</th>\n",
       "      <td>537</td>\n",
       "      <td>2571</td>\n",
       "      <td>philosophy</td>\n",
       "      <td>1424141098</td>\n",
       "    </tr>\n",
       "    <tr>\n",
       "      <th>2795</th>\n",
       "      <td>537</td>\n",
       "      <td>2571</td>\n",
       "      <td>post apocalyptic</td>\n",
       "      <td>1424141101</td>\n",
       "    </tr>\n",
       "  </tbody>\n",
       "</table>\n",
       "</div>"
      ],
      "text/plain": [
       "      userId  movieId                 tag   timestamp\n",
       "815      424     2571        martial arts  1457842912\n",
       "816      424     2571              sci-fi  1457842899\n",
       "1646     474     2571  alternate universe  1137204991\n",
       "2794     537     2571          philosophy  1424141098\n",
       "2795     537     2571    post apocalyptic  1424141101"
      ]
     },
     "execution_count": 30,
     "metadata": {},
     "output_type": "execute_result"
    }
   ],
   "source": [
    "tags[tags[\"movieId\"]==2571]"
   ]
  },
  {
   "cell_type": "markdown",
   "id": "90b2cead",
   "metadata": {},
   "source": [
    "### What is the average user rating for movie named \"Terminator 2: Judgment Day (1991)\"?"
   ]
  },
  {
   "cell_type": "code",
   "execution_count": 31,
   "id": "05041ae7",
   "metadata": {},
   "outputs": [
    {
     "data": {
      "text/html": [
       "<div>\n",
       "<style scoped>\n",
       "    .dataframe tbody tr th:only-of-type {\n",
       "        vertical-align: middle;\n",
       "    }\n",
       "\n",
       "    .dataframe tbody tr th {\n",
       "        vertical-align: top;\n",
       "    }\n",
       "\n",
       "    .dataframe thead th {\n",
       "        text-align: right;\n",
       "    }\n",
       "</style>\n",
       "<table border=\"1\" class=\"dataframe\">\n",
       "  <thead>\n",
       "    <tr style=\"text-align: right;\">\n",
       "      <th></th>\n",
       "      <th>movieId</th>\n",
       "      <th>title</th>\n",
       "      <th>genres</th>\n",
       "    </tr>\n",
       "  </thead>\n",
       "  <tbody>\n",
       "    <tr>\n",
       "      <th>507</th>\n",
       "      <td>589</td>\n",
       "      <td>Terminator 2: Judgment Day (1991)</td>\n",
       "      <td>Action|Sci-Fi</td>\n",
       "    </tr>\n",
       "  </tbody>\n",
       "</table>\n",
       "</div>"
      ],
      "text/plain": [
       "     movieId                              title         genres\n",
       "507      589  Terminator 2: Judgment Day (1991)  Action|Sci-Fi"
      ]
     },
     "execution_count": 31,
     "metadata": {},
     "output_type": "execute_result"
    }
   ],
   "source": [
    "movies.loc[movies['title']==\"Terminator 2: Judgment Day (1991)\"]"
   ]
  },
  {
   "cell_type": "code",
   "execution_count": 32,
   "id": "514789c7",
   "metadata": {},
   "outputs": [
    {
     "data": {
      "text/plain": [
       "3.970982142857143"
      ]
     },
     "execution_count": 32,
     "metadata": {},
     "output_type": "execute_result"
    }
   ],
   "source": [
    "ratings[ratings[\"movieId\"]==589][\"rating\"].mean()"
   ]
  },
  {
   "cell_type": "markdown",
   "id": "25a9ebbd",
   "metadata": {},
   "source": [
    "### `How does the data distribution of user ratings for \"Fight Club (1999)\" movie looks like?\n",
    "\n",
    "* Normal Distribution\n",
    "* Left Skewed Distribution\n",
    "* Right Skewed Distribution\n",
    "* Uniform Distribution"
   ]
  },
  {
   "cell_type": "markdown",
   "id": "89f09a27",
   "metadata": {},
   "source": [
    "## step 1"
   ]
  },
  {
   "cell_type": "code",
   "execution_count": 39,
   "id": "2b426363",
   "metadata": {},
   "outputs": [
    {
     "data": {
      "text/html": [
       "<div>\n",
       "<style scoped>\n",
       "    .dataframe tbody tr th:only-of-type {\n",
       "        vertical-align: middle;\n",
       "    }\n",
       "\n",
       "    .dataframe tbody tr th {\n",
       "        vertical-align: top;\n",
       "    }\n",
       "\n",
       "    .dataframe thead th {\n",
       "        text-align: right;\n",
       "    }\n",
       "</style>\n",
       "<table border=\"1\" class=\"dataframe\">\n",
       "  <thead>\n",
       "    <tr style=\"text-align: right;\">\n",
       "      <th></th>\n",
       "      <th>movieId</th>\n",
       "      <th>title</th>\n",
       "      <th>genres</th>\n",
       "    </tr>\n",
       "  </thead>\n",
       "  <tbody>\n",
       "    <tr>\n",
       "      <th>2226</th>\n",
       "      <td>2959</td>\n",
       "      <td>Fight Club (1999)</td>\n",
       "      <td>Action|Crime|Drama|Thriller</td>\n",
       "    </tr>\n",
       "  </tbody>\n",
       "</table>\n",
       "</div>"
      ],
      "text/plain": [
       "      movieId              title                       genres\n",
       "2226     2959  Fight Club (1999)  Action|Crime|Drama|Thriller"
      ]
     },
     "execution_count": 39,
     "metadata": {},
     "output_type": "execute_result"
    }
   ],
   "source": [
    "movies.loc[movies['title']=='Fight Club (1999)']"
   ]
  },
  {
   "cell_type": "code",
   "execution_count": 40,
   "id": "6c99e527",
   "metadata": {},
   "outputs": [
    {
     "data": {
      "text/html": [
       "<div>\n",
       "<style scoped>\n",
       "    .dataframe tbody tr th:only-of-type {\n",
       "        vertical-align: middle;\n",
       "    }\n",
       "\n",
       "    .dataframe tbody tr th {\n",
       "        vertical-align: top;\n",
       "    }\n",
       "\n",
       "    .dataframe thead th {\n",
       "        text-align: right;\n",
       "    }\n",
       "</style>\n",
       "<table border=\"1\" class=\"dataframe\">\n",
       "  <thead>\n",
       "    <tr style=\"text-align: right;\">\n",
       "      <th></th>\n",
       "      <th>userId</th>\n",
       "      <th>movieId</th>\n",
       "      <th>rating</th>\n",
       "      <th>timestamp</th>\n",
       "    </tr>\n",
       "  </thead>\n",
       "  <tbody>\n",
       "    <tr>\n",
       "      <th>192</th>\n",
       "      <td>1</td>\n",
       "      <td>2959</td>\n",
       "      <td>5.0</td>\n",
       "      <td>964983282</td>\n",
       "    </tr>\n",
       "    <tr>\n",
       "      <th>458</th>\n",
       "      <td>4</td>\n",
       "      <td>2959</td>\n",
       "      <td>2.0</td>\n",
       "      <td>945078528</td>\n",
       "    </tr>\n",
       "    <tr>\n",
       "      <th>1134</th>\n",
       "      <td>10</td>\n",
       "      <td>2959</td>\n",
       "      <td>0.5</td>\n",
       "      <td>1455356582</td>\n",
       "    </tr>\n",
       "    <tr>\n",
       "      <th>1479</th>\n",
       "      <td>15</td>\n",
       "      <td>2959</td>\n",
       "      <td>2.5</td>\n",
       "      <td>1510571747</td>\n",
       "    </tr>\n",
       "    <tr>\n",
       "      <th>1635</th>\n",
       "      <td>16</td>\n",
       "      <td>2959</td>\n",
       "      <td>3.5</td>\n",
       "      <td>1377476874</td>\n",
       "    </tr>\n",
       "    <tr>\n",
       "      <th>...</th>\n",
       "      <td>...</td>\n",
       "      <td>...</td>\n",
       "      <td>...</td>\n",
       "      <td>...</td>\n",
       "    </tr>\n",
       "    <tr>\n",
       "      <th>95893</th>\n",
       "      <td>601</td>\n",
       "      <td>2959</td>\n",
       "      <td>5.0</td>\n",
       "      <td>1441639461</td>\n",
       "    </tr>\n",
       "    <tr>\n",
       "      <th>96788</th>\n",
       "      <td>603</td>\n",
       "      <td>2959</td>\n",
       "      <td>4.0</td>\n",
       "      <td>963176105</td>\n",
       "    </tr>\n",
       "    <tr>\n",
       "      <th>97835</th>\n",
       "      <td>606</td>\n",
       "      <td>2959</td>\n",
       "      <td>5.0</td>\n",
       "      <td>1171231517</td>\n",
       "    </tr>\n",
       "    <tr>\n",
       "      <th>99107</th>\n",
       "      <td>608</td>\n",
       "      <td>2959</td>\n",
       "      <td>5.0</td>\n",
       "      <td>1117336631</td>\n",
       "    </tr>\n",
       "    <tr>\n",
       "      <th>99699</th>\n",
       "      <td>610</td>\n",
       "      <td>2959</td>\n",
       "      <td>5.0</td>\n",
       "      <td>1479541966</td>\n",
       "    </tr>\n",
       "  </tbody>\n",
       "</table>\n",
       "<p>218 rows × 4 columns</p>\n",
       "</div>"
      ],
      "text/plain": [
       "       userId  movieId  rating   timestamp\n",
       "192         1     2959     5.0   964983282\n",
       "458         4     2959     2.0   945078528\n",
       "1134       10     2959     0.5  1455356582\n",
       "1479       15     2959     2.5  1510571747\n",
       "1635       16     2959     3.5  1377476874\n",
       "...       ...      ...     ...         ...\n",
       "95893     601     2959     5.0  1441639461\n",
       "96788     603     2959     4.0   963176105\n",
       "97835     606     2959     5.0  1171231517\n",
       "99107     608     2959     5.0  1117336631\n",
       "99699     610     2959     5.0  1479541966\n",
       "\n",
       "[218 rows x 4 columns]"
      ]
     },
     "execution_count": 40,
     "metadata": {},
     "output_type": "execute_result"
    }
   ],
   "source": [
    "ratings[ratings['movieId']==2959]\n"
   ]
  },
  {
   "cell_type": "code",
   "execution_count": 43,
   "id": "1cb514ed",
   "metadata": {},
   "outputs": [
    {
     "data": {
      "text/plain": [
       "<Axes: xlabel='rating'>"
      ]
     },
     "execution_count": 43,
     "metadata": {},
     "output_type": "execute_result"
    },
    {
     "data": {
      "image/png": "[encoded data removed]",
      "text/plain": [
       "<Figure size 640x480 with 1 Axes>"
      ]
     },
     "metadata": {},
     "output_type": "display_data"
    }
   ],
   "source": [
    "fight_club_ratings = ratings[ratings['movieId']==2959]['rating']\n",
    "sns.boxplot(x=fight_club_ratings)"
   ]
  },
  {
   "cell_type": "code",
   "execution_count": 44,
   "id": "669c8041",
   "metadata": {},
   "outputs": [
    {
     "data": {
      "text/plain": [
       "<Axes: xlabel='rating', ylabel='Density'>"
      ]
     },
     "execution_count": 44,
     "metadata": {},
     "output_type": "execute_result"
    },
    {
     "data": {
      "image/png": "[encoded data removed]",
      "text/plain": [
       "<Figure size 640x480 with 1 Axes>"
      ]
     },
     "metadata": {},
     "output_type": "display_data"
    }
   ],
   "source": [
    "sns.kdeplot(fight_club_ratings, fill=True)"
   ]
  },
  {
   "cell_type": "markdown",
   "id": "bdd143d8",
   "metadata": {},
   "source": [
    "### imp note 1 "
   ]
  },
  {
   "cell_type": "markdown",
   "id": "00846bfa",
   "metadata": {},
   "source": [
    "🟢 IMPORTANT NOTE 1 🟢\n",
    "Now that you have a good enough understanding of the given data, apply the \"Mandatory Operation\" given below before solving any of the following questions.\n",
    "\n",
    "Mandatory Operations:\n",
    "\n",
    "Group the user ratings based on movieId and apply aggregation operations like count and mean on ratings.\n",
    "Apply inner join on dataframe created from movies.csv and the grouped df from step 1.\n",
    "Filter only those movies which have more than 50 user ratings (i.e. > 50).\n",
    "Above steps will make sure that your data contains only those movies which has recieved more than 50 user ratings."
   ]
  },
  {
   "cell_type": "code",
   "execution_count": 45,
   "id": "ea9a0450",
   "metadata": {},
   "outputs": [
    {
     "data": {
      "text/html": [
       "<div>\n",
       "<style scoped>\n",
       "    .dataframe tbody tr th:only-of-type {\n",
       "        vertical-align: middle;\n",
       "    }\n",
       "\n",
       "    .dataframe tbody tr th {\n",
       "        vertical-align: top;\n",
       "    }\n",
       "\n",
       "    .dataframe thead th {\n",
       "        text-align: right;\n",
       "    }\n",
       "</style>\n",
       "<table border=\"1\" class=\"dataframe\">\n",
       "  <thead>\n",
       "    <tr style=\"text-align: right;\">\n",
       "      <th></th>\n",
       "      <th>userId</th>\n",
       "      <th>movieId</th>\n",
       "      <th>rating</th>\n",
       "      <th>timestamp</th>\n",
       "    </tr>\n",
       "  </thead>\n",
       "  <tbody>\n",
       "    <tr>\n",
       "      <th>0</th>\n",
       "      <td>1</td>\n",
       "      <td>1</td>\n",
       "      <td>4.0</td>\n",
       "      <td>964982703</td>\n",
       "    </tr>\n",
       "    <tr>\n",
       "      <th>1</th>\n",
       "      <td>1</td>\n",
       "      <td>3</td>\n",
       "      <td>4.0</td>\n",
       "      <td>964981247</td>\n",
       "    </tr>\n",
       "    <tr>\n",
       "      <th>2</th>\n",
       "      <td>1</td>\n",
       "      <td>6</td>\n",
       "      <td>4.0</td>\n",
       "      <td>964982224</td>\n",
       "    </tr>\n",
       "    <tr>\n",
       "      <th>3</th>\n",
       "      <td>1</td>\n",
       "      <td>47</td>\n",
       "      <td>5.0</td>\n",
       "      <td>964983815</td>\n",
       "    </tr>\n",
       "    <tr>\n",
       "      <th>4</th>\n",
       "      <td>1</td>\n",
       "      <td>50</td>\n",
       "      <td>5.0</td>\n",
       "      <td>964982931</td>\n",
       "    </tr>\n",
       "    <tr>\n",
       "      <th>...</th>\n",
       "      <td>...</td>\n",
       "      <td>...</td>\n",
       "      <td>...</td>\n",
       "      <td>...</td>\n",
       "    </tr>\n",
       "    <tr>\n",
       "      <th>100831</th>\n",
       "      <td>610</td>\n",
       "      <td>166534</td>\n",
       "      <td>4.0</td>\n",
       "      <td>1493848402</td>\n",
       "    </tr>\n",
       "    <tr>\n",
       "      <th>100832</th>\n",
       "      <td>610</td>\n",
       "      <td>168248</td>\n",
       "      <td>5.0</td>\n",
       "      <td>1493850091</td>\n",
       "    </tr>\n",
       "    <tr>\n",
       "      <th>100833</th>\n",
       "      <td>610</td>\n",
       "      <td>168250</td>\n",
       "      <td>5.0</td>\n",
       "      <td>1494273047</td>\n",
       "    </tr>\n",
       "    <tr>\n",
       "      <th>100834</th>\n",
       "      <td>610</td>\n",
       "      <td>168252</td>\n",
       "      <td>5.0</td>\n",
       "      <td>1493846352</td>\n",
       "    </tr>\n",
       "    <tr>\n",
       "      <th>100835</th>\n",
       "      <td>610</td>\n",
       "      <td>170875</td>\n",
       "      <td>3.0</td>\n",
       "      <td>1493846415</td>\n",
       "    </tr>\n",
       "  </tbody>\n",
       "</table>\n",
       "<p>100836 rows × 4 columns</p>\n",
       "</div>"
      ],
      "text/plain": [
       "        userId  movieId  rating   timestamp\n",
       "0            1        1     4.0   964982703\n",
       "1            1        3     4.0   964981247\n",
       "2            1        6     4.0   964982224\n",
       "3            1       47     5.0   964983815\n",
       "4            1       50     5.0   964982931\n",
       "...        ...      ...     ...         ...\n",
       "100831     610   166534     4.0  1493848402\n",
       "100832     610   168248     5.0  1493850091\n",
       "100833     610   168250     5.0  1494273047\n",
       "100834     610   168252     5.0  1493846352\n",
       "100835     610   170875     3.0  1493846415\n",
       "\n",
       "[100836 rows x 4 columns]"
      ]
     },
     "execution_count": 45,
     "metadata": {},
     "output_type": "execute_result"
    }
   ],
   "source": [
    "ratings"
   ]
  },
  {
   "cell_type": "code",
   "execution_count": 46,
   "id": "3306d319",
   "metadata": {},
   "outputs": [
    {
     "data": {
      "text/plain": [
       "movieId\n",
       "1         215\n",
       "2         110\n",
       "3          52\n",
       "4           7\n",
       "5          49\n",
       "         ... \n",
       "193581      1\n",
       "193583      1\n",
       "193585      1\n",
       "193587      1\n",
       "193609      1\n",
       "Name: rating, Length: 9724, dtype: int64"
      ]
     },
     "execution_count": 46,
     "metadata": {},
     "output_type": "execute_result"
    }
   ],
   "source": [
    "ratings_mids = ratings.groupby('movieId')\n",
    "ratings_mids.rating.count()"
   ]
  },
  {
   "cell_type": "code",
   "execution_count": 47,
   "id": "cfe6e750",
   "metadata": {},
   "outputs": [],
   "source": [
    "grouped_ratings = ratings.groupby('movieId').agg({'rating': ['count', 'mean']})\n",
    "\n",
    "# Flatten the multi-level column index\n",
    "grouped_ratings.columns = ['_'.join(col).strip() for col in grouped_ratings.columns.values]\n",
    "\n",
    "# Reset index for a cleaner output\n",
    "grouped_ratings.reset_index(inplace=True)"
   ]
  },
  {
   "cell_type": "code",
   "execution_count": 48,
   "id": "bd25e666",
   "metadata": {},
   "outputs": [
    {
     "data": {
      "text/html": [
       "<div>\n",
       "<style scoped>\n",
       "    .dataframe tbody tr th:only-of-type {\n",
       "        vertical-align: middle;\n",
       "    }\n",
       "\n",
       "    .dataframe tbody tr th {\n",
       "        vertical-align: top;\n",
       "    }\n",
       "\n",
       "    .dataframe thead th {\n",
       "        text-align: right;\n",
       "    }\n",
       "</style>\n",
       "<table border=\"1\" class=\"dataframe\">\n",
       "  <thead>\n",
       "    <tr style=\"text-align: right;\">\n",
       "      <th></th>\n",
       "      <th>movieId</th>\n",
       "      <th>title</th>\n",
       "      <th>genres</th>\n",
       "      <th>rating_count</th>\n",
       "      <th>rating_mean</th>\n",
       "    </tr>\n",
       "  </thead>\n",
       "  <tbody>\n",
       "    <tr>\n",
       "      <th>0</th>\n",
       "      <td>1</td>\n",
       "      <td>Toy Story (1995)</td>\n",
       "      <td>Adventure|Animation|Children|Comedy|Fantasy</td>\n",
       "      <td>215</td>\n",
       "      <td>3.920930</td>\n",
       "    </tr>\n",
       "    <tr>\n",
       "      <th>1</th>\n",
       "      <td>2</td>\n",
       "      <td>Jumanji (1995)</td>\n",
       "      <td>Adventure|Children|Fantasy</td>\n",
       "      <td>110</td>\n",
       "      <td>3.431818</td>\n",
       "    </tr>\n",
       "    <tr>\n",
       "      <th>2</th>\n",
       "      <td>3</td>\n",
       "      <td>Grumpier Old Men (1995)</td>\n",
       "      <td>Comedy|Romance</td>\n",
       "      <td>52</td>\n",
       "      <td>3.259615</td>\n",
       "    </tr>\n",
       "    <tr>\n",
       "      <th>5</th>\n",
       "      <td>6</td>\n",
       "      <td>Heat (1995)</td>\n",
       "      <td>Action|Crime|Thriller</td>\n",
       "      <td>102</td>\n",
       "      <td>3.946078</td>\n",
       "    </tr>\n",
       "    <tr>\n",
       "      <th>6</th>\n",
       "      <td>7</td>\n",
       "      <td>Sabrina (1995)</td>\n",
       "      <td>Comedy|Romance</td>\n",
       "      <td>54</td>\n",
       "      <td>3.185185</td>\n",
       "    </tr>\n",
       "    <tr>\n",
       "      <th>...</th>\n",
       "      <td>...</td>\n",
       "      <td>...</td>\n",
       "      <td>...</td>\n",
       "      <td>...</td>\n",
       "      <td>...</td>\n",
       "    </tr>\n",
       "    <tr>\n",
       "      <th>8287</th>\n",
       "      <td>106782</td>\n",
       "      <td>Wolf of Wall Street, The (2013)</td>\n",
       "      <td>Comedy|Crime|Drama</td>\n",
       "      <td>54</td>\n",
       "      <td>3.916667</td>\n",
       "    </tr>\n",
       "    <tr>\n",
       "      <th>8354</th>\n",
       "      <td>109374</td>\n",
       "      <td>Grand Budapest Hotel, The (2014)</td>\n",
       "      <td>Comedy|Drama</td>\n",
       "      <td>52</td>\n",
       "      <td>3.778846</td>\n",
       "    </tr>\n",
       "    <tr>\n",
       "      <th>8358</th>\n",
       "      <td>109487</td>\n",
       "      <td>Interstellar (2014)</td>\n",
       "      <td>Sci-Fi|IMAX</td>\n",
       "      <td>73</td>\n",
       "      <td>3.993151</td>\n",
       "    </tr>\n",
       "    <tr>\n",
       "      <th>8457</th>\n",
       "      <td>112852</td>\n",
       "      <td>Guardians of the Galaxy (2014)</td>\n",
       "      <td>Action|Adventure|Sci-Fi</td>\n",
       "      <td>59</td>\n",
       "      <td>4.050847</td>\n",
       "    </tr>\n",
       "    <tr>\n",
       "      <th>8673</th>\n",
       "      <td>122904</td>\n",
       "      <td>Deadpool (2016)</td>\n",
       "      <td>Action|Adventure|Comedy|Sci-Fi</td>\n",
       "      <td>54</td>\n",
       "      <td>3.833333</td>\n",
       "    </tr>\n",
       "  </tbody>\n",
       "</table>\n",
       "<p>436 rows × 5 columns</p>\n",
       "</div>"
      ],
      "text/plain": [
       "      movieId                             title  \\\n",
       "0           1                  Toy Story (1995)   \n",
       "1           2                    Jumanji (1995)   \n",
       "2           3           Grumpier Old Men (1995)   \n",
       "5           6                       Heat (1995)   \n",
       "6           7                    Sabrina (1995)   \n",
       "...       ...                               ...   \n",
       "8287   106782   Wolf of Wall Street, The (2013)   \n",
       "8354   109374  Grand Budapest Hotel, The (2014)   \n",
       "8358   109487               Interstellar (2014)   \n",
       "8457   112852    Guardians of the Galaxy (2014)   \n",
       "8673   122904                   Deadpool (2016)   \n",
       "\n",
       "                                           genres  rating_count  rating_mean  \n",
       "0     Adventure|Animation|Children|Comedy|Fantasy           215     3.920930  \n",
       "1                      Adventure|Children|Fantasy           110     3.431818  \n",
       "2                                  Comedy|Romance            52     3.259615  \n",
       "5                           Action|Crime|Thriller           102     3.946078  \n",
       "6                                  Comedy|Romance            54     3.185185  \n",
       "...                                           ...           ...          ...  \n",
       "8287                           Comedy|Crime|Drama            54     3.916667  \n",
       "8354                                 Comedy|Drama            52     3.778846  \n",
       "8358                                  Sci-Fi|IMAX            73     3.993151  \n",
       "8457                      Action|Adventure|Sci-Fi            59     4.050847  \n",
       "8673               Action|Adventure|Comedy|Sci-Fi            54     3.833333  \n",
       "\n",
       "[436 rows x 5 columns]"
      ]
     },
     "execution_count": 48,
     "metadata": {},
     "output_type": "execute_result"
    }
   ],
   "source": [
    "# Inner join on data frames created from movies.csv and the grouped ratings data frame\n",
    "merged_df = pd.merge(movies, grouped_ratings, on='movieId', how='inner')\n",
    "\n",
    "# Filter only those movies which have more than 50 user ratings\n",
    "filtered_df = merged_df[merged_df['rating_count'] > 50]\n",
    "filtered_df"
   ]
  },
  {
   "cell_type": "markdown",
   "id": "2a3f92b3",
   "metadata": {},
   "source": [
    "### Which movie is the most popular based on average user ratings?\n"
   ]
  },
  {
   "cell_type": "markdown",
   "id": "57da6b89",
   "metadata": {},
   "source": [
    "### Answer this question only after applying the above mentioned \"Mandatory Operration\".\n",
    "\n",
    "* Godfather, The (1972)\n",
    "* Shawshank Redemption, The (1994)\n",
    "* Jumanji (1995)\n",
    "* Wolf of Wall Street, The (2013)"
   ]
  },
  {
   "cell_type": "code",
   "execution_count": 49,
   "id": "5432131d",
   "metadata": {},
   "outputs": [
    {
     "data": {
      "text/html": [
       "<div>\n",
       "<style scoped>\n",
       "    .dataframe tbody tr th:only-of-type {\n",
       "        vertical-align: middle;\n",
       "    }\n",
       "\n",
       "    .dataframe tbody tr th {\n",
       "        vertical-align: top;\n",
       "    }\n",
       "\n",
       "    .dataframe thead th {\n",
       "        text-align: right;\n",
       "    }\n",
       "</style>\n",
       "<table border=\"1\" class=\"dataframe\">\n",
       "  <thead>\n",
       "    <tr style=\"text-align: right;\">\n",
       "      <th></th>\n",
       "      <th>movieId</th>\n",
       "      <th>title</th>\n",
       "      <th>genres</th>\n",
       "      <th>rating_count</th>\n",
       "      <th>rating_mean</th>\n",
       "    </tr>\n",
       "  </thead>\n",
       "  <tbody>\n",
       "    <tr>\n",
       "      <th>277</th>\n",
       "      <td>318</td>\n",
       "      <td>Shawshank Redemption, The (1994)</td>\n",
       "      <td>Crime|Drama</td>\n",
       "      <td>317</td>\n",
       "      <td>4.429022</td>\n",
       "    </tr>\n",
       "  </tbody>\n",
       "</table>\n",
       "</div>"
      ],
      "text/plain": [
       "     movieId                             title       genres  rating_count  \\\n",
       "277      318  Shawshank Redemption, The (1994)  Crime|Drama           317   \n",
       "\n",
       "     rating_mean  \n",
       "277     4.429022  "
      ]
     },
     "execution_count": 49,
     "metadata": {},
     "output_type": "execute_result"
    }
   ],
   "source": [
    "filtered_df[filtered_df['rating_mean']==filtered_df.rating_mean.max()]"
   ]
  },
  {
   "cell_type": "markdown",
   "id": "56204d49",
   "metadata": {},
   "source": [
    "### 10. Select all the correct options which comes under top 5 popular movies based on number of user ratings.\n",
    "Answer this question only after applying the above mentioned \"Mandatory Operration\".\n",
    "\n",
    "* Pulp Fiction (1994)\n",
    "\n",
    "* Bad Boys (1995)\n",
    "\n",
    "* Silence of the Lambs, The (1991)\n",
    "\n",
    "* Matrix, The (1999)"
   ]
  },
  {
   "cell_type": "code",
   "execution_count": 50,
   "id": "37ea64d2",
   "metadata": {},
   "outputs": [
    {
     "data": {
      "text/plain": [
       "314     329\n",
       "277     317\n",
       "257     307\n",
       "510     279\n",
       "1938    278\n",
       "Name: rating_count, dtype: int64"
      ]
     },
     "execution_count": 50,
     "metadata": {},
     "output_type": "execute_result"
    }
   ],
   "source": [
    "filtered_df['rating_count'].sort_values(ascending=False).head()"
   ]
  },
  {
   "cell_type": "code",
   "execution_count": 51,
   "id": "aa78bde2",
   "metadata": {},
   "outputs": [
    {
     "data": {
      "text/html": [
       "<div>\n",
       "<style scoped>\n",
       "    .dataframe tbody tr th:only-of-type {\n",
       "        vertical-align: middle;\n",
       "    }\n",
       "\n",
       "    .dataframe tbody tr th {\n",
       "        vertical-align: top;\n",
       "    }\n",
       "\n",
       "    .dataframe thead th {\n",
       "        text-align: right;\n",
       "    }\n",
       "</style>\n",
       "<table border=\"1\" class=\"dataframe\">\n",
       "  <thead>\n",
       "    <tr style=\"text-align: right;\">\n",
       "      <th></th>\n",
       "      <th>movieId</th>\n",
       "      <th>title</th>\n",
       "      <th>genres</th>\n",
       "      <th>rating_count</th>\n",
       "      <th>rating_mean</th>\n",
       "    </tr>\n",
       "  </thead>\n",
       "  <tbody>\n",
       "    <tr>\n",
       "      <th>314</th>\n",
       "      <td>356</td>\n",
       "      <td>Forrest Gump (1994)</td>\n",
       "      <td>Comedy|Drama|Romance|War</td>\n",
       "      <td>329</td>\n",
       "      <td>4.164134</td>\n",
       "    </tr>\n",
       "    <tr>\n",
       "      <th>277</th>\n",
       "      <td>318</td>\n",
       "      <td>Shawshank Redemption, The (1994)</td>\n",
       "      <td>Crime|Drama</td>\n",
       "      <td>317</td>\n",
       "      <td>4.429022</td>\n",
       "    </tr>\n",
       "    <tr>\n",
       "      <th>257</th>\n",
       "      <td>296</td>\n",
       "      <td>Pulp Fiction (1994)</td>\n",
       "      <td>Comedy|Crime|Drama|Thriller</td>\n",
       "      <td>307</td>\n",
       "      <td>4.197068</td>\n",
       "    </tr>\n",
       "    <tr>\n",
       "      <th>510</th>\n",
       "      <td>593</td>\n",
       "      <td>Silence of the Lambs, The (1991)</td>\n",
       "      <td>Crime|Horror|Thriller</td>\n",
       "      <td>279</td>\n",
       "      <td>4.161290</td>\n",
       "    </tr>\n",
       "    <tr>\n",
       "      <th>1938</th>\n",
       "      <td>2571</td>\n",
       "      <td>Matrix, The (1999)</td>\n",
       "      <td>Action|Sci-Fi|Thriller</td>\n",
       "      <td>278</td>\n",
       "      <td>4.192446</td>\n",
       "    </tr>\n",
       "  </tbody>\n",
       "</table>\n",
       "</div>"
      ],
      "text/plain": [
       "      movieId                             title                       genres  \\\n",
       "314       356               Forrest Gump (1994)     Comedy|Drama|Romance|War   \n",
       "277       318  Shawshank Redemption, The (1994)                  Crime|Drama   \n",
       "257       296               Pulp Fiction (1994)  Comedy|Crime|Drama|Thriller   \n",
       "510       593  Silence of the Lambs, The (1991)        Crime|Horror|Thriller   \n",
       "1938     2571                Matrix, The (1999)       Action|Sci-Fi|Thriller   \n",
       "\n",
       "      rating_count  rating_mean  \n",
       "314            329     4.164134  \n",
       "277            317     4.429022  \n",
       "257            307     4.197068  \n",
       "510            279     4.161290  \n",
       "1938           278     4.192446  "
      ]
     },
     "execution_count": 51,
     "metadata": {},
     "output_type": "execute_result"
    }
   ],
   "source": [
    "filtered_df.loc[[314, 277, 257, 510, 1938]]"
   ]
  },
  {
   "cell_type": "markdown",
   "id": "1e85169d",
   "metadata": {},
   "source": [
    "### 11. Which Sci-Fi movie is \"third most popular\" based on the number of user ratings?\n",
    "Answer this question only after applying the above mentioned \"Mandatory Operration\".\n",
    "* Deadpool (2016)\n",
    "* Terminator 2: Judgment Day (1991)\n",
    "* X-Men: The Last Stand (2006)\n",
    "* Jurassic Park (1993)"
   ]
  },
  {
   "cell_type": "code",
   "execution_count": 52,
   "id": "548f8cb3",
   "metadata": {},
   "outputs": [
    {
     "data": {
      "text/plain": [
       "array(['Adventure|Animation|Children|Comedy|Fantasy',\n",
       "       'Adventure|Children|Fantasy', 'Comedy|Romance',\n",
       "       'Action|Crime|Thriller', 'Action|Adventure|Thriller',\n",
       "       'Comedy|Drama|Romance', 'Crime|Drama', 'Drama|Romance', 'Comedy',\n",
       "       'Comedy|Crime|Thriller', 'Mystery|Sci-Fi|Thriller',\n",
       "       'Children|Drama', 'Mystery|Thriller',\n",
       "       'Animation|Children|Drama|Musical|Romance',\n",
       "       'Crime|Mystery|Thriller', 'Drama', 'Action|Comedy|Horror|Thriller',\n",
       "       'Action|Drama|War', 'Crime|Drama|Thriller',\n",
       "       'Action|Comedy|Crime|Drama|Thriller', 'Adventure|Drama|IMAX',\n",
       "       'Action|Adventure|Comedy|Crime', 'Adventure|Children',\n",
       "       'Action|Adventure|Mystery|Sci-Fi', 'Drama|Thriller|War',\n",
       "       'Action|Romance|Western', 'Action|Drama|Romance',\n",
       "       'Action|Sci-Fi|Thriller', 'Action|Crime|Sci-Fi',\n",
       "       'Action|Adventure|Sci-Fi', 'Drama|Thriller', 'Adventure|Comedy',\n",
       "       'Comedy|Drama', 'Drama|Horror', 'Drama|Romance|War|Western',\n",
       "       'Action|Drama|Sci-Fi|Thriller', 'Action|Crime|Drama|Thriller',\n",
       "       'Comedy|Crime|Drama|Thriller', 'Comedy|Drama|Fantasy',\n",
       "       'Adventure|Drama|Sci-Fi', 'Drama|Mystery|Thriller',\n",
       "       'Action|Crime|Fantasy|Thriller', 'Comedy|Drama|Romance|War',\n",
       "       'Adventure|Animation|Children|Drama|Musical|IMAX',\n",
       "       'Action|Comedy|Crime|Fantasy', 'Adventure|Comedy|Western',\n",
       "       'Action|Comedy', 'Action|Romance|Thriller',\n",
       "       'Action|Adventure|Comedy|Romance|Thriller',\n",
       "       'Children|Comedy|Fantasy', 'Action|Comedy|Crime|Thriller',\n",
       "       'Comedy|Sci-Fi', 'Thriller', 'Action|Comedy|War',\n",
       "       'Action|Thriller', 'Action|Adventure|Sci-Fi|Thriller',\n",
       "       'Action|Adventure|Comedy|Fantasy', 'Drama|War',\n",
       "       'Animation|Children|Fantasy|Musical',\n",
       "       'Action|Adventure|Comedy|Romance', 'Action|Drama|Western',\n",
       "       'Crime|Thriller', 'Children|Comedy',\n",
       "       'Comedy|Drama|Fantasy|Romance|Thriller',\n",
       "       'Adventure|Animation|Children|Comedy|Musical', 'Action|Sci-Fi',\n",
       "       'Adventure|Drama|Western', 'Crime|Horror|Thriller',\n",
       "       'Animation|Children|Drama|Fantasy|Musical',\n",
       "       'Animation|Children|Fantasy|Musical|Romance|IMAX',\n",
       "       'Action|Adventure|Mystery|Thriller', 'Action|Adventure|Fantasy',\n",
       "       'Adventure|Animation|Children|Comedy|Fantasy|Sci-Fi',\n",
       "       'Action|Adventure|Romance|Thriller', 'Comedy|War',\n",
       "       'Comedy|Crime|Drama', 'Comedy|Thriller', 'Action|Drama|Thriller',\n",
       "       'Comedy|Fantasy|Romance|Sci-Fi', 'Drama|Mystery|Romance|Thriller',\n",
       "       'Action|Adventure|Mystery|Romance|Thriller',\n",
       "       'Adventure|Children|Fantasy|Musical', 'Drama|Mystery',\n",
       "       'Children|Drama|Fantasy|Romance',\n",
       "       'Children|Comedy|Fantasy|Musical', 'Musical|Romance',\n",
       "       'Comedy|Crime', 'Children|Drama|Sci-Fi', 'Action|Romance',\n",
       "       'Adventure|Comedy|Fantasy', 'Animation|Children|Comedy|Crime',\n",
       "       'Action|Adventure|Comedy|Fantasy|Romance', 'Action|Adventure',\n",
       "       'Fantasy|Sci-Fi', 'Action|Adventure|Horror|Sci-Fi',\n",
       "       'Action|Adventure|Western', 'Crime|Drama|Sci-Fi|Thriller',\n",
       "       'Horror|Sci-Fi', 'Action|Adventure|Comedy|Fantasy|Horror',\n",
       "       'Crime|Horror', 'Action|Comedy|Musical',\n",
       "       'Crime|Film-Noir|Mystery|Thriller', 'Horror', 'Adventure|Drama',\n",
       "       'Comedy|Fantasy|Romance', 'Adventure|Comedy|Sci-Fi',\n",
       "       'Comedy|Fantasy', 'Children|Drama|Fantasy', 'Action|Western',\n",
       "       'Action|Crime', 'Comedy|Musical|Romance', 'Action|Horror',\n",
       "       'Action|Comedy|Sci-Fi', 'Comedy|Horror|Mystery|Thriller',\n",
       "       'Comedy|Crime|Romance', 'Action|Adventure|Comedy',\n",
       "       'Action|Adventure|Comedy|Sci-Fi', 'Drama|Sci-Fi',\n",
       "       'Drama|Sci-Fi|Thriller', 'Comedy|Drama|Sci-Fi',\n",
       "       'Action|Romance|Sci-Fi|Thriller', 'Horror|Mystery',\n",
       "       'Action|Comedy|Crime|Drama',\n",
       "       'Action|Adventure|Children|Comedy|Fantasy',\n",
       "       'Action|Comedy|Romance', 'Adventure|Comedy|Sci-Fi|Western',\n",
       "       'Adventure|Children|Comedy|Fantasy|Sci-Fi',\n",
       "       'Animation|Children|Comedy|Musical',\n",
       "       'Animation|Children|Comedy|Romance',\n",
       "       'Animation|Children|Comedy|Musical|Romance',\n",
       "       'Action|Horror|Thriller', 'Action|Crime|Drama',\n",
       "       'Drama|Fantasy|Romance', 'Adventure|Animation|Children|Comedy',\n",
       "       'Action|Drama|Sci-Fi',\n",
       "       'Action|Adventure|Comedy|Fantasy|Horror|Thriller',\n",
       "       'Comedy|Horror|Musical|Sci-Fi', 'Comedy|Horror',\n",
       "       'Animation|Comedy|Musical', 'Action|Comedy|Sci-Fi|Western',\n",
       "       'Drama|Horror|Thriller', 'Drama|Horror|Mystery',\n",
       "       'Comedy|Drama|Fantasy|Romance',\n",
       "       'Action|Crime|Drama|Sci-Fi|Thriller',\n",
       "       'Adventure|Animation|Children|Comedy|Crime|Fantasy|Mystery',\n",
       "       'Fantasy|Horror|Mystery|Romance', 'Crime|Horror|Mystery|Thriller',\n",
       "       'Action|Adventure|Drama', 'Comedy|Western',\n",
       "       'Animation|Children|Comedy', 'Adventure|Comedy|Crime',\n",
       "       'Adventure|Animation|Children|Comedy|Fantasy|Romance',\n",
       "       'Drama|Musical|Romance', 'Drama|Horror|Mystery|Thriller',\n",
       "       'Crime|Drama|Film-Noir|Mystery|Thriller',\n",
       "       'Drama|Mystery|Sci-Fi|Thriller', 'Adventure|Fantasy',\n",
       "       'Action|Adventure|Sci-Fi|IMAX', 'Action|Mystery|Thriller',\n",
       "       'Action|Crime|Mystery|Sci-Fi|Thriller', 'Horror|Sci-Fi|Thriller',\n",
       "       'Adventure|Animation|Fantasy', 'Documentary',\n",
       "       'Action|Adventure|Crime|Drama|Thriller',\n",
       "       'Action|Adventure|Sci-Fi|Thriller|IMAX', 'Action|Horror|Sci-Fi',\n",
       "       'Comedy|Musical', 'Crime|Drama|Mystery',\n",
       "       'Action|Adventure|Drama|War', 'Action|Adventure|Drama|Fantasy',\n",
       "       'Drama|Romance|Sci-Fi',\n",
       "       'Adventure|Animation|Children|Comedy|Musical|Romance',\n",
       "       'Adventure|Fantasy|IMAX',\n",
       "       'Action|Adventure|Animation|Children|Comedy',\n",
       "       'Adventure|Children|Comedy|Fantasy|IMAX',\n",
       "       'Action|Crime|Film-Noir|Mystery|Thriller', 'Action|Crime|IMAX',\n",
       "       'Adventure|Fantasy|Thriller|IMAX', 'Action|Sci-Fi|Thriller|IMAX',\n",
       "       'Adventure|Comedy|Drama', 'Drama|Fantasy|Thriller',\n",
       "       'Action|Adventure|Drama|Sci-Fi|Thriller',\n",
       "       'Action|Adventure|Crime|Drama|Thriller|War',\n",
       "       'Animation|Children|Drama', 'Action|Comedy|Crime|Mystery',\n",
       "       'Action|Fantasy|War|IMAX', 'Adventure|Drama|Fantasy|IMAX',\n",
       "       'Action|Horror|Sci-Fi|Thriller|IMAX', 'Action|Crime|Drama|IMAX',\n",
       "       'Action|Animation|Children|Comedy|IMAX',\n",
       "       'Adventure|Animation|Children|Romance|Sci-Fi',\n",
       "       'Crime|Drama|Romance', 'Adventure|Animation|Children|Drama',\n",
       "       'Adventure|Fantasy|Mystery|Romance|IMAX', 'Action|Comedy|Horror',\n",
       "       'Action|Crime|Mystery|Thriller',\n",
       "       'Adventure|Animation|Children|Fantasy|IMAX',\n",
       "       'Adventure|Animation|Children|Comedy|Fantasy|IMAX',\n",
       "       'Action|Crime|Drama|Mystery|Sci-Fi|Thriller|IMAX',\n",
       "       'Action|Adventure|Crime|IMAX', 'Sci-Fi|IMAX'], dtype=object)"
      ]
     },
     "execution_count": 52,
     "metadata": {},
     "output_type": "execute_result"
    }
   ],
   "source": [
    "filtered_df.genres.unique()"
   ]
  },
  {
   "cell_type": "code",
   "execution_count": 53,
   "id": "345a89a8",
   "metadata": {},
   "outputs": [
    {
     "data": {
      "text/plain": [
       "1938    278\n",
       "224     251\n",
       "418     238\n",
       "507     224\n",
       "897     211\n",
       "       ... \n",
       "8673     54\n",
       "144      53\n",
       "2028     53\n",
       "559      53\n",
       "6192     52\n",
       "Name: rating_count, Length: 88, dtype: int64"
      ]
     },
     "execution_count": 53,
     "metadata": {},
     "output_type": "execute_result"
    }
   ],
   "source": [
    "sci_fi_movies = filtered_df[filtered_df['genres'].str.contains('Sci-Fi')]\n",
    "sci_fi_movies['rating_count'].sort_values(ascending=False)"
   ]
  },
  {
   "cell_type": "code",
   "execution_count": 54,
   "id": "ef202143",
   "metadata": {},
   "outputs": [
    {
     "data": {
      "text/plain": [
       "movieId                                      480\n",
       "title                       Jurassic Park (1993)\n",
       "genres          Action|Adventure|Sci-Fi|Thriller\n",
       "rating_count                                 238\n",
       "rating_mean                                 3.75\n",
       "Name: 418, dtype: object"
      ]
     },
     "execution_count": 54,
     "metadata": {},
     "output_type": "execute_result"
    }
   ],
   "source": [
    "sci_fi_movies.loc[418]"
   ]
  },
  {
   "cell_type": "code",
   "execution_count": null,
   "id": "72ceffcc",
   "metadata": {},
   "outputs": [],
   "source": []
  }
 ],
 "metadata": {
  "kernelspec": {
   "display_name": "Python 3 (ipykernel)",
   "language": "python",
   "name": "python3"
  },
  "language_info": {
   "codemirror_mode": {
    "name": "ipython",
    "version": 3
   },
   "file_extension": ".py",
   "mimetype": "text/x-python",
   "name": "python",
   "nbconvert_exporter": "python",
   "pygments_lexer": "ipython3",
   "version": "3.11.4"
  }
 },
 "nbformat": 4,
 "nbformat_minor": 5
}
